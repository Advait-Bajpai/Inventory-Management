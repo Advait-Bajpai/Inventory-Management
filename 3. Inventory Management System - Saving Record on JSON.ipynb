{
 "cells": [
  {
   "cell_type": "code",
   "execution_count": 5,
   "id": "4b0e76c0",
   "metadata": {},
   "outputs": [
    {
     "name": "stdout",
     "output_type": "stream",
     "text": [
      "---------------------------Menu---------------------------\n",
      "1001 : 5 Star 10 192\n",
      "1002 : Bar-One 20 97\n",
      "1003 : Candy 2 1000\n",
      "1004 : Chocolate Cake 550 8\n",
      "1005 : Blueberry Cake 650 0\n",
      "----------------------------------------------------------\n",
      "Enter the product Id : 1005\n",
      "Enter the quantity : 6\n",
      "Sorry, We're not having enough quanity of product in our Inventory.\n",
      "We're only having 0 quantity.\n",
      "---------------------------------------------\n"
     ]
    },
    {
     "ename": "NameError",
     "evalue": "name 'ch' is not defined",
     "output_type": "error",
     "traceback": [
      "\u001b[1;31m---------------------------------------------------------------------------\u001b[0m",
      "\u001b[1;31mNameError\u001b[0m                                 Traceback (most recent call last)",
      "Cell \u001b[1;32mIn[5], line 35\u001b[0m\n\u001b[0;32m     33\u001b[0m \u001b[38;5;28mprint\u001b[39m(\u001b[38;5;124m\"\u001b[39m\u001b[38;5;124mWe\u001b[39m\u001b[38;5;124m'\u001b[39m\u001b[38;5;124mre only having \u001b[39m\u001b[38;5;124m\"\u001b[39m \u001b[38;5;241m+\u001b[39m \u001b[38;5;28mstr\u001b[39m(record[ui_pr][\u001b[38;5;124m'\u001b[39m\u001b[38;5;124mQuantity\u001b[39m\u001b[38;5;124m'\u001b[39m]) \u001b[38;5;241m+\u001b[39m \u001b[38;5;124m\"\u001b[39m\u001b[38;5;124m quantity.\u001b[39m\u001b[38;5;124m\"\u001b[39m)\n\u001b[0;32m     34\u001b[0m \u001b[38;5;28mprint\u001b[39m(\u001b[38;5;124m\"\u001b[39m\u001b[38;5;124m---------------------------------------------\u001b[39m\u001b[38;5;124m\"\u001b[39m)\n\u001b[1;32m---> 35\u001b[0m ch \u001b[38;5;241m==\u001b[39m \u001b[38;5;28mstr\u001b[39m(raw_input(\u001b[38;5;124m\"\u001b[39m\u001b[38;5;124mPress Y to purchase: \u001b[39m\u001b[38;5;124m\"\u001b[39m))\n\u001b[0;32m     37\u001b[0m \u001b[38;5;28;01mif\u001b[39;00m(ch \u001b[38;5;241m==\u001b[39m \u001b[38;5;124m\"\u001b[39m\u001b[38;5;124mY\u001b[39m\u001b[38;5;124m\"\u001b[39m \u001b[38;5;129;01mor\u001b[39;00m ch \u001b[38;5;241m==\u001b[39m \u001b[38;5;124m'\u001b[39m\u001b[38;5;124my\u001b[39m\u001b[38;5;124m'\u001b[39m):\n\u001b[0;32m     39\u001b[0m     \u001b[38;5;28mprint\u001b[39m(\u001b[38;5;124m\"\u001b[39m\u001b[38;5;124m---------------------------------------------\u001b[39m\u001b[38;5;124m\"\u001b[39m)\n",
      "\u001b[1;31mNameError\u001b[0m: name 'ch' is not defined"
     ]
    }
   ],
   "source": [
    "import json\n",
    "fd = open('Records.json', 'r')\n",
    "js=fd.read()\n",
    "fd.close()\n",
    "# record = {1001 : {'Name':\"5 Star\", \"Price\":10, \"Quantity\": 200},\n",
    "#           1002 : {\"Name\":\"Bar-One\", \"Price\":20, \"Quantity\": 100},\n",
    "#           1003 : {\"Name\":\"Candy\", \"Price\":2, \"Quantity\":1000},\n",
    "#           1004 : {\"Name\":\"Chocolate Cake\", \"Price\":550,\"Quantity\":8},\n",
    "#           1005 : {\"Name\":\"Blueberry Cake\", \"Price\":650,\"Quantity\":5}}\n",
    "# Will replace record entry with json.loads(js) as it will update the records in the real tiem as well \n",
    "record = json.loads(js) \n",
    "print(\"---------------------------Menu---------------------------\")\n",
    "for key in record.keys():\n",
    "    print(key, \":\", record[key]['Name'], record[key]['Price'], record[key]['Quantity'])\n",
    "\n",
    "    \n",
    "print(\"----------------------------------------------------------\")\n",
    "ui_pr = str(input(\"Enter the product Id : \"))\n",
    "ui_qn = int(input(\"Enter the quantity : \"))\n",
    "if(record[ui_pr]['Quantity'] >= ui_qn):\n",
    "\n",
    "    print(\"------------------------Bill------------------------------\")\n",
    "    print(\"Name      : \", record[ui_pr]['Name'])\n",
    "    print(\"Price(Rs) : \", record[ui_pr]['Price'])\n",
    "    print(\"Quantity  : \", ui_qn)\n",
    "    print(\"----------------------------------------------------------\")\n",
    "    print(\"Billing Amount:\", record[ui_pr]['Price'] * ui_qn, \"Rs\")\n",
    "    print(\"----------------------------------------------------------\")\n",
    "    record[ui_pr]['Quantity'] = record[ui_pr]['Quantity'] - ui_qn\n",
    "else:\n",
    "    \n",
    "    print(\"Sorry, We're not having enough quanity of product in our Inventory.\")\n",
    "    print(\"We're only having \" + str(record[ui_pr]['Quantity']) + \" quantity.\")\n",
    "    print(\"---------------------------------------------\")\n",
    "    ch == str(raw_input(\"Press Y to purchase: \"))\n",
    "    \n",
    "    if(ch == \"Y\" or ch == 'y'):\n",
    "\n",
    "        print(\"---------------------------------------------\")\n",
    "        print(\"Name      : \", record[ui_pr][\"Name\"])\n",
    "        print(\"Price (Rs): \", record[ui_pr][\"Price\"])\n",
    "        print(\"Quantity  : \", record[ui_pr]['Qn'])\n",
    "        print(\"---------------------------------------------\")\n",
    "        print(\"Billing   : \", record[ui_pr]['Qn'] * record[ui_pr][\"Price\"], \"Rs\")\n",
    "        print(\"---------------------------------------------\")\n",
    "\n",
    "        record[ui_pr]['Qn'] = 0\n",
    "        \n",
    "    else:\n",
    "        print(\"Thanks!\")\n",
    "        \n",
    "js = json.dumps(record)\n",
    "fd = open(\"Records.json\", 'w')\n",
    "fd.write(js)\n",
    "fd.close()"
   ]
  },
  {
   "cell_type": "code",
   "execution_count": null,
   "id": "7a02344d",
   "metadata": {},
   "outputs": [],
   "source": []
  },
  {
   "cell_type": "code",
   "execution_count": null,
   "id": "bc111f2c",
   "metadata": {},
   "outputs": [],
   "source": []
  }
 ],
 "metadata": {
  "kernelspec": {
   "display_name": "Python 3 (ipykernel)",
   "language": "python",
   "name": "python3"
  },
  "language_info": {
   "codemirror_mode": {
    "name": "ipython",
    "version": 3
   },
   "file_extension": ".py",
   "mimetype": "text/x-python",
   "name": "python",
   "nbconvert_exporter": "python",
   "pygments_lexer": "ipython3",
   "version": "3.11.7"
  }
 },
 "nbformat": 4,
 "nbformat_minor": 5
}
