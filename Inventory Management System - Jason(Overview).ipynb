{
 "cells": [
  {
   "cell_type": "code",
   "execution_count": null,
   "id": "54bd3219",
   "metadata": {},
   "outputs": [],
   "source": [
    "# import json\n",
    "fd = open('Records.json', 'r')\n",
    "js=fd.read()\n",
    "fd.close()\n",
    "# record = {1001 : {'Name':\"5 Star\", \"Price\":10, \"Quantity\": 200},\n",
    "#           1002 : {\"Name\":\"Bar-One\", \"Price\":20, \"Quantity\": 100},\n",
    "#           1003 : {\"Name\":\"Candy\", \"Price\":2, \"Quantity\":1000},\n",
    "#           1004 : {\"Name\":\"Chocolate Cake\", \"Price\":550,\"Quantity\":8},\n",
    "#           1005 : {\"Name\":\"Blueberry Cake\", \"Price\":650,\"Quantity\":5}}\n",
    "# Will replace record entry with json.loads(js) as it will update the records in the real tiem as well \n",
    "record = json.loads(js) \n",
    "print(\"---------------------------Menu---------------------------\")\n",
    "for key in record.keys():\n",
    "    print(key, \":\", record[key]['Name'], record[key]['Price'], record[key]['Quantity'])\n",
    "    \n",
    "print(\"----------------------------------------------------------\")\n",
    "ui_pr = str(input(\"Enter the product Id : \"))\n",
    "ui_qn = int(input(\"Enter the quantity : \"))\n",
    "print(\"------------------------Bill------------------------------\")\n",
    "print(\"Name      : \", record[ui_pr]['Name'])\n",
    "print(\"Price(Rs) : \", record[ui_pr]['Price'])\n",
    "print(\"Quantity  : \", ui_qn)\n",
    "print(\"----------------------------------------------------------\")\n",
    "print(\"Billing Amount:\", record[ui_pr]['Price'] * ui_qn)\n",
    "print(\"----------------------------------------------------------\")\n",
    "record[ui_pr]['Quantity'] = record[ui_pr]['Quantity'] - ui_qn\n",
    "\n",
    "js = json.dumps(record)\n",
    "fd = open(\"Records.json\", 'w')\n",
    "fd.write(js)\n",
    "fd.close()"
   ]
  },
  {
   "cell_type": "code",
   "execution_count": null,
   "id": "1591dbe3",
   "metadata": {},
   "outputs": [],
   "source": [
    "fd = open('Records.json', 'r')\n",
    "js=fd.read()\n",
    "fd.close()"
   ]
  },
  {
   "cell_type": "code",
   "execution_count": null,
   "id": "f1a54482",
   "metadata": {},
   "outputs": [],
   "source": [
    "json"
   ]
  },
  {
   "cell_type": "code",
   "execution_count": null,
   "id": "9f8904bf",
   "metadata": {},
   "outputs": [],
   "source": []
  }
 ],
 "metadata": {
  "kernelspec": {
   "display_name": "Python 3 (ipykernel)",
   "language": "python",
   "name": "python3"
  },
  "language_info": {
   "codemirror_mode": {
    "name": "ipython",
    "version": 3
   },
   "file_extension": ".py",
   "mimetype": "text/x-python",
   "name": "python",
   "nbconvert_exporter": "python",
   "pygments_lexer": "ipython3",
   "version": "3.11.7"
  }
 },
 "nbformat": 4,
 "nbformat_minor": 5
}
